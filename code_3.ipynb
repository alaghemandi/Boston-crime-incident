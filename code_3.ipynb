{
 "cells": [
  {
   "cell_type": "code",
   "execution_count": 1,
   "metadata": {},
   "outputs": [],
   "source": [
    "import numpy as np\n",
    "import pandas as pd\n",
    "from datetime import datetime"
   ]
  },
  {
   "cell_type": "code",
   "execution_count": 2,
   "metadata": {},
   "outputs": [],
   "source": [
    "import matplotlib.pyplot as plt\n",
    "import seaborn as sns\n",
    "%matplotlib inline"
   ]
  },
  {
   "cell_type": "code",
   "execution_count": 3,
   "metadata": {},
   "outputs": [],
   "source": [
    "df = pd.read_csv('tmpjqutrb5f.csv')"
   ]
  },
  {
   "cell_type": "code",
   "execution_count": 4,
   "metadata": {},
   "outputs": [
    {
     "data": {
      "text/html": [
       "<div>\n",
       "<style scoped>\n",
       "    .dataframe tbody tr th:only-of-type {\n",
       "        vertical-align: middle;\n",
       "    }\n",
       "\n",
       "    .dataframe tbody tr th {\n",
       "        vertical-align: top;\n",
       "    }\n",
       "\n",
       "    .dataframe thead th {\n",
       "        text-align: right;\n",
       "    }\n",
       "</style>\n",
       "<table border=\"1\" class=\"dataframe\">\n",
       "  <thead>\n",
       "    <tr style=\"text-align: right;\">\n",
       "      <th></th>\n",
       "      <th>INCIDENT_NUMBER</th>\n",
       "      <th>OFFENSE_CODE</th>\n",
       "      <th>OFFENSE_CODE_GROUP</th>\n",
       "      <th>OFFENSE_DESCRIPTION</th>\n",
       "      <th>DISTRICT</th>\n",
       "      <th>REPORTING_AREA</th>\n",
       "      <th>SHOOTING</th>\n",
       "      <th>OCCURRED_ON_DATE</th>\n",
       "      <th>YEAR</th>\n",
       "      <th>MONTH</th>\n",
       "      <th>DAY_OF_WEEK</th>\n",
       "      <th>HOUR</th>\n",
       "      <th>UCR_PART</th>\n",
       "      <th>STREET</th>\n",
       "      <th>Lat</th>\n",
       "      <th>Long</th>\n",
       "      <th>Location</th>\n",
       "    </tr>\n",
       "  </thead>\n",
       "  <tbody>\n",
       "    <tr>\n",
       "      <th>0</th>\n",
       "      <td>I192057955</td>\n",
       "      <td>3115</td>\n",
       "      <td>Investigate Person</td>\n",
       "      <td>INVESTIGATE PERSON</td>\n",
       "      <td>D4</td>\n",
       "      <td>627</td>\n",
       "      <td>NaN</td>\n",
       "      <td>2019-07-26 19:56:00</td>\n",
       "      <td>2019</td>\n",
       "      <td>7</td>\n",
       "      <td>Friday</td>\n",
       "      <td>19</td>\n",
       "      <td>Part Three</td>\n",
       "      <td>KILMARNOCK ST</td>\n",
       "      <td>42.343535</td>\n",
       "      <td>-71.099801</td>\n",
       "      <td>(42.34353469, -71.09980109)</td>\n",
       "    </tr>\n",
       "    <tr>\n",
       "      <th>1</th>\n",
       "      <td>I192057953</td>\n",
       "      <td>619</td>\n",
       "      <td>Larceny</td>\n",
       "      <td>LARCENY ALL OTHERS</td>\n",
       "      <td>B3</td>\n",
       "      <td>434</td>\n",
       "      <td>NaN</td>\n",
       "      <td>2019-07-26 21:00:00</td>\n",
       "      <td>2019</td>\n",
       "      <td>7</td>\n",
       "      <td>Friday</td>\n",
       "      <td>21</td>\n",
       "      <td>Part One</td>\n",
       "      <td>EVANS ST</td>\n",
       "      <td>42.282293</td>\n",
       "      <td>-71.080889</td>\n",
       "      <td>(42.28229312, -71.08088944)</td>\n",
       "    </tr>\n",
       "    <tr>\n",
       "      <th>2</th>\n",
       "      <td>I192057944</td>\n",
       "      <td>3006</td>\n",
       "      <td>Medical Assistance</td>\n",
       "      <td>SICK/INJURED/MEDICAL - PERSON</td>\n",
       "      <td>E13</td>\n",
       "      <td>574</td>\n",
       "      <td>NaN</td>\n",
       "      <td>2019-07-26 20:48:00</td>\n",
       "      <td>2019</td>\n",
       "      <td>7</td>\n",
       "      <td>Friday</td>\n",
       "      <td>20</td>\n",
       "      <td>Part Three</td>\n",
       "      <td>WASHINGTON ST</td>\n",
       "      <td>42.309719</td>\n",
       "      <td>-71.104294</td>\n",
       "      <td>(42.30971857, -71.10429432)</td>\n",
       "    </tr>\n",
       "    <tr>\n",
       "      <th>3</th>\n",
       "      <td>I192057942</td>\n",
       "      <td>619</td>\n",
       "      <td>Larceny</td>\n",
       "      <td>LARCENY ALL OTHERS</td>\n",
       "      <td>D14</td>\n",
       "      <td>800</td>\n",
       "      <td>NaN</td>\n",
       "      <td>2019-07-26 19:00:00</td>\n",
       "      <td>2019</td>\n",
       "      <td>7</td>\n",
       "      <td>Friday</td>\n",
       "      <td>19</td>\n",
       "      <td>Part One</td>\n",
       "      <td>ASHFORD ST</td>\n",
       "      <td>42.354319</td>\n",
       "      <td>-71.129017</td>\n",
       "      <td>(42.35431862, -71.12901674)</td>\n",
       "    </tr>\n",
       "    <tr>\n",
       "      <th>4</th>\n",
       "      <td>I192057939</td>\n",
       "      <td>1102</td>\n",
       "      <td>Fraud</td>\n",
       "      <td>FRAUD - FALSE PRETENSE / SCHEME</td>\n",
       "      <td>D4</td>\n",
       "      <td>166</td>\n",
       "      <td>NaN</td>\n",
       "      <td>2019-07-26 15:00:00</td>\n",
       "      <td>2019</td>\n",
       "      <td>7</td>\n",
       "      <td>Friday</td>\n",
       "      <td>15</td>\n",
       "      <td>Part Two</td>\n",
       "      <td>SHAWMUT AVE</td>\n",
       "      <td>42.341775</td>\n",
       "      <td>-71.071245</td>\n",
       "      <td>(42.34177501, -71.07124466)</td>\n",
       "    </tr>\n",
       "  </tbody>\n",
       "</table>\n",
       "</div>"
      ],
      "text/plain": [
       "  INCIDENT_NUMBER  OFFENSE_CODE  OFFENSE_CODE_GROUP  \\\n",
       "0      I192057955          3115  Investigate Person   \n",
       "1      I192057953           619             Larceny   \n",
       "2      I192057944          3006  Medical Assistance   \n",
       "3      I192057942           619             Larceny   \n",
       "4      I192057939          1102               Fraud   \n",
       "\n",
       "               OFFENSE_DESCRIPTION DISTRICT REPORTING_AREA SHOOTING  \\\n",
       "0               INVESTIGATE PERSON       D4            627      NaN   \n",
       "1               LARCENY ALL OTHERS       B3            434      NaN   \n",
       "2    SICK/INJURED/MEDICAL - PERSON      E13            574      NaN   \n",
       "3               LARCENY ALL OTHERS      D14            800      NaN   \n",
       "4  FRAUD - FALSE PRETENSE / SCHEME       D4            166      NaN   \n",
       "\n",
       "      OCCURRED_ON_DATE  YEAR  MONTH DAY_OF_WEEK  HOUR    UCR_PART  \\\n",
       "0  2019-07-26 19:56:00  2019      7      Friday    19  Part Three   \n",
       "1  2019-07-26 21:00:00  2019      7      Friday    21    Part One   \n",
       "2  2019-07-26 20:48:00  2019      7      Friday    20  Part Three   \n",
       "3  2019-07-26 19:00:00  2019      7      Friday    19    Part One   \n",
       "4  2019-07-26 15:00:00  2019      7      Friday    15    Part Two   \n",
       "\n",
       "          STREET        Lat       Long                     Location  \n",
       "0  KILMARNOCK ST  42.343535 -71.099801  (42.34353469, -71.09980109)  \n",
       "1       EVANS ST  42.282293 -71.080889  (42.28229312, -71.08088944)  \n",
       "2  WASHINGTON ST  42.309719 -71.104294  (42.30971857, -71.10429432)  \n",
       "3     ASHFORD ST  42.354319 -71.129017  (42.35431862, -71.12901674)  \n",
       "4    SHAWMUT AVE  42.341775 -71.071245  (42.34177501, -71.07124466)  "
      ]
     },
     "execution_count": 4,
     "metadata": {},
     "output_type": "execute_result"
    }
   ],
   "source": [
    "df.head()"
   ]
  },
  {
   "cell_type": "code",
   "execution_count": 5,
   "metadata": {},
   "outputs": [],
   "source": [
    "df_year_month = df.groupby(['YEAR','MONTH']).size().to_frame()\n",
    "df_year_month = df_year_month.reset_index()"
   ]
  },
  {
   "cell_type": "code",
   "execution_count": 6,
   "metadata": {},
   "outputs": [],
   "source": [
    "df_year_month['CRIME INCIDENT'] = df_year_month[0]"
   ]
  },
  {
   "cell_type": "code",
   "execution_count": 7,
   "metadata": {},
   "outputs": [
    {
     "data": {
      "image/png": "[encoded data removed]",
      "text/plain": [
       "<Figure size 792x504 with 1 Axes>"
      ]
     },
     "metadata": {
      "needs_background": "light"
     },
     "output_type": "display_data"
    }
   ],
   "source": [
    "plt.figure(figsize=(11,7))\n",
    "crime_plot = sns.barplot(x='MONTH', y='CRIME INCIDENT', hue='YEAR',data=df_year_month,palette='Set1')\n",
    "crime_plot.figure.savefig(\"Boston_crime.png\")"
   ]
  },
  {
   "cell_type": "code",
   "execution_count": 8,
   "metadata": {},
   "outputs": [],
   "source": [
    "df_2015 = df[df['YEAR']==2015].groupby('MONTH').count().reset_index()\n",
    "df_2016 = df[df['YEAR']==2016].groupby('MONTH').count().reset_index()\n",
    "df_2017 = df[df['YEAR']==2017].groupby('MONTH').count().reset_index()\n",
    "df_2018 = df[df['YEAR']==2018].groupby('MONTH').count().reset_index()\n",
    "df_2019 = df[df['YEAR']==2019].groupby('MONTH').count().reset_index()"
   ]
  },
  {
   "cell_type": "code",
   "execution_count": 9,
   "metadata": {},
   "outputs": [
    {
     "data": {
      "image/png": "[encoded data removed]",
      "text/plain": [
       "<Figure size 432x288 with 1 Axes>"
      ]
     },
     "metadata": {
      "needs_background": "light"
     },
     "output_type": "display_data"
    }
   ],
   "source": [
    "crime_plot_2018 = sns.barplot(x='MONTH', y='INCIDENT_NUMBER',data=df_2018).set_title(\"Monthly crime incident in 2018\")\n",
    "crime_plot_2018.figure.savefig(\"Boston_crime_2018.png\")"
   ]
  },
  {
   "cell_type": "code",
   "execution_count": 10,
   "metadata": {},
   "outputs": [],
   "source": [
    "df_2018_July = df[(df['YEAR']==2018) & \n",
    "                  (df['MONTH']==7) & \n",
    "                  (df['OFFENSE_CODE_GROUP'] == 'Drug Violation')].groupby('DAY_OF_WEEK').count().reset_index()"
   ]
  },
  {
   "cell_type": "code",
   "execution_count": 11,
   "metadata": {},
   "outputs": [
    {
     "data": {
      "image/png": "[encoded data removed]",
      "text/plain": [
       "<Figure size 432x288 with 1 Axes>"
      ]
     },
     "metadata": {
      "needs_background": "light"
     },
     "output_type": "display_data"
    }
   ],
   "source": [
    "crime_plot_2018_July = sns.barplot(x='DAY_OF_WEEK', y='INCIDENT_NUMBER',data=df_2018_July).set_title(\"Weekly crime incident on July 2018\")\n",
    "crime_plot_2018_July.figure.savefig(\"Boston_crime_2018_July.png\")"
   ]
  },
  {
   "cell_type": "code",
   "execution_count": 12,
   "metadata": {},
   "outputs": [],
   "source": [
    "df_2018_July_Tue = df[(df['YEAR']==2018) & \n",
    "                      (df['MONTH']==7) & \n",
    "                      (df['DAY_OF_WEEK']=='Monday') & \n",
    "                      (df['OFFENSE_CODE_GROUP'] == 'Drug Violation')].groupby('HOUR').count().reset_index()"
   ]
  },
  {
   "cell_type": "code",
   "execution_count": 13,
   "metadata": {},
   "outputs": [
    {
     "data": {
      "image/png": "[encoded data removed]",
      "text/plain": [
       "<Figure size 432x288 with 1 Axes>"
      ]
     },
     "metadata": {
      "needs_background": "light"
     },
     "output_type": "display_data"
    }
   ],
   "source": [
    "crime_plot_2018_July_Tue = sns.barplot(x='HOUR', y='INCIDENT_NUMBER',data=df_2018_July_Tue).set_title(\"Hourly crime incident on Tuesdays July 2018\")\n",
    "crime_plot_2018_July_Tue.figure.savefig(\"Boston_crime_2018_July_Tuesday.png\")"
   ]
  },
  {
   "cell_type": "code",
   "execution_count": null,
   "metadata": {},
   "outputs": [],
   "source": []
  }
 ],
 "metadata": {
  "kernelspec": {
   "display_name": "Python 3",
   "language": "python",
   "name": "python3"
  },
  "language_info": {
   "codemirror_mode": {
    "name": "ipython",
    "version": 3
   },
   "file_extension": ".py",
   "mimetype": "text/x-python",
   "name": "python",
   "nbconvert_exporter": "python",
   "pygments_lexer": "ipython3",
   "version": "3.6.8"
  }
 },
 "nbformat": 4,
 "nbformat_minor": 2
}
